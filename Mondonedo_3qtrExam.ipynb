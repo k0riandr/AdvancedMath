{
 "cells": [
  {
   "cell_type": "code",
   "execution_count": 25,
   "id": "e3b4482a-a9cc-4db8-936c-57e86ce81546",
   "metadata": {},
   "outputs": [
    {
     "name": "stdout",
     "output_type": "stream",
     "text": [
      "Solution (Unknowns):\n",
      "[ 7.36462094 32.23826715 -1.62454874 15.05415162 16.93140794]\n"
     ]
    }
   ],
   "source": [
    "import numpy as np\n",
    "\n",
    "#Coefficient matrix A (5x5 matrix)\n",
    "A = np.array([\n",
    "    [3, 2, 1, 1, 0],\n",
    "    [1, 4, 2, 0, 1],\n",
    "    [2, 3, 4, 1, 0],\n",
    "    [1, 1, 3, 5, 0],\n",
    "    [0, 1, 2, 4, 3]\n",
    "])\n",
    "\n",
    "#Constant matrix B (5x1 matrix)\n",
    "B = np.array([100, 150, 120, 110, 140])\n",
    "\n",
    "#Check if matrix A is invertible (determinant should not be zero)\n",
    "det_A = np.linalg.det(A)\n",
    "if det_A == 0:\n",
    "    print(\"Matrix A is singular and cannot be inverted!\")\n",
    "else:\n",
    "    #Find the inverse of matrix A\n",
    "    A_inv = np.linalg.inv(A)\n",
    "\n",
    "    #Solve for X using the matrix inverse method\n",
    "    X = np.dot(A_inv, B)\n",
    "\n",
    "    print(\"Solution (Unknowns):\")\n",
    "    print(X)"
   ]
  },
  {
   "cell_type": "markdown",
   "id": "fb55e9a0-07a3-4c84-aaab-59f306dbea9e",
   "metadata": {},
   "source": [
    "# Problem 1"
   ]
  },
  {
   "cell_type": "code",
   "execution_count": 29,
   "id": "cfb3af9e-44b2-433f-ad41-0b732048e69a",
   "metadata": {},
   "outputs": [
    {
     "name": "stdout",
     "output_type": "stream",
     "text": [
      "Solution (Unknowns):\n",
      "[2.64102564 1.61538462 1.8974359 ]\n"
     ]
    }
   ],
   "source": [
    "#Define the coefficient matrix A (3x3 matrix)\n",
    "A = np.array([\n",
    "    [2, 1, -1],\n",
    "    [-1, 3, 2],\n",
    "    [1, -2, 4]\n",
    "])\n",
    "\n",
    "#Define the constant matrix B (3x1 matrix)\n",
    "B = np.array([5, 6, 7])\n",
    "\n",
    "#Check if matrix A is invertible (determinant should not be zero)\n",
    "det_A = np.linalg.det(A)\n",
    "if det_A == 0:\n",
    "    print(\"Matrix A is singular and cannot be inverted!\")\n",
    "else:\n",
    "    #Find the inverse of matrix A\n",
    "    A_inv = np.linalg.inv(A)\n",
    "\n",
    "    #Solve for X using the matrix inverse method\n",
    "    X = np.dot(A_inv, B)\n",
    "\n",
    "    print(\"Solution (Unknowns):\")\n",
    "    print(X)"
   ]
  },
  {
   "cell_type": "markdown",
   "id": "3ddb75f8-33f5-4939-8ee1-949e35f25d73",
   "metadata": {},
   "source": [
    "# Problem 2"
   ]
  },
  {
   "cell_type": "code",
   "execution_count": 67,
   "id": "cad981ce-4d41-4f3d-8993-622eec3b5cec",
   "metadata": {},
   "outputs": [
    {
     "name": "stdout",
     "output_type": "stream",
     "text": [
      "Solution (Unknowns):\n",
      "[ -23.86666667  137.6        -336.          242.53333333  241.86666667]\n"
     ]
    }
   ],
   "source": [
    "#Define the coefficient matrix A (5x5 matrix)\n",
    "A = np.array([\n",
    "    [5, 3, 1, 1, 0],\n",
    "    [4, 6, 2, 0, 1],\n",
    "    [2, 7, 3, 1, 0],\n",
    "    [1, 2, 4, 5, 0],\n",
    "    [3, 4, 5, 0, 6]\n",
    "])\n",
    "\n",
    "#Define the constant matrix B (5x1 matrix)\n",
    "B = np.array([200, 300, 150, 120, 250])\n",
    "\n",
    "#Check if matrix A is invertible (determinant should not be zero)\n",
    "det_A = np.linalg.det(A)\n",
    "\n",
    "if det_A == 0:\n",
    "    print(\"Matrix A is singular and cannot be inverted!\")\n",
    "else:\n",
    "    #Find the inverse of matrix A\n",
    "    A_inv = np.linalg.inv(A)\n",
    "\n",
    "    #Solve for X using the matrix inverse method\n",
    "    X = np.dot(A_inv, B)\n",
    "\n",
    "    print(\"Solution (Unknowns):\")\n",
    "    print(X)"
   ]
  },
  {
   "cell_type": "markdown",
   "id": "97f74620-2696-4fff-a4d2-8ee608b9ead8",
   "metadata": {},
   "source": [
    "# Problem 3"
   ]
  },
  {
   "cell_type": "code",
   "execution_count": 45,
   "id": "fe50ff7a-7470-434e-b7c0-4563b04b280f",
   "metadata": {},
   "outputs": [
    {
     "name": "stdout",
     "output_type": "stream",
     "text": [
      "Solution (Unknowns):\n",
      "[ 5.04903254 -3.24742872 12.72106153  3.78185405 -1.75960383 -5.25219523\n",
      " -0.21908362]\n"
     ]
    }
   ],
   "source": [
    "#Define the coefficient matrix A (7x7 matrix)\n",
    "A = np.array([\n",
    "    [1, 2, 3, 4, 5, 6, 7],\n",
    "    [4, 6, 2, 4, 6, 2, 1],\n",
    "    [7, 5, 3, 2, 4, 5, 7],\n",
    "    [1, 5, 7, 4, 3, 9, 2],\n",
    "    [2, 5, 6, 3, 2, 5, 8],\n",
    "    [3, 2, 4, 5, 7, 1, 4],\n",
    "    [3, 1, 5, 7, 3, 5, 2]\n",
    "])\n",
    "\n",
    "#Define the constant matrix B (7x1 matrix)\n",
    "B = np.array([10, 20, 30, 40, 50, 60, 70])\n",
    "\n",
    "#Check if matrix A is invertible (determinant should not be zero)\n",
    "det_A = np.linalg.det(A)\n",
    "if det_A == 0:\n",
    "    print(\"Matrix A is singular and cannot be inverted!\")\n",
    "else:\n",
    "    #Find the inverse of matrix A\n",
    "    A_inv = np.linalg.inv(A)\n",
    "\n",
    "    #Solve for X using the matrix inverse method\n",
    "    X = np.dot(A_inv, B)\n",
    "\n",
    "    print(\"Solution (Unknowns):\")\n",
    "    print(X)"
   ]
  },
  {
   "cell_type": "markdown",
   "id": "187ee755-abc7-4ef1-a838-ed4a556d2b89",
   "metadata": {},
   "source": [
    "# Problem 4"
   ]
  },
  {
   "cell_type": "code",
   "execution_count": 49,
   "id": "c930e2d7-3e86-46e5-987e-d85072a7c640",
   "metadata": {},
   "outputs": [
    {
     "name": "stdout",
     "output_type": "stream",
     "text": [
      "Solution (Unknowns):\n",
      "[-1.77635684e-15  1.50000000e+01 -8.88178420e-16 -5.00000000e+00\n",
      " -8.88178420e-16]\n"
     ]
    }
   ],
   "source": [
    "#Define the coefficient matrix A (5x5 matrix) with the actual values\n",
    "A = np.array([\n",
    "    [1, 2, 3, 4, 7],\n",
    "    [6, 3, 7, 5, 3],\n",
    "    [2, 4, 4, 6, 1],\n",
    "    [4, 5, 7, 7, 5],\n",
    "    [7, 6, 2, 8, 7]\n",
    "])\n",
    "\n",
    "#Define the constant matrix B (5x1 matrix) with the actual values\n",
    "B = np.array([10, 20, 30, 40, 50])\n",
    "\n",
    "#Check if matrix A is invertible (determinant should not be zero)\n",
    "det_A = np.linalg.det(A)\n",
    "if det_A == 0:\n",
    "    print(\"Matrix A is singular and cannot be inverted!\")\n",
    "else:\n",
    "    #Find the inverse of matrix A\n",
    "    A_inv = np.linalg.inv(A)\n",
    "\n",
    "    #Solve for X using the matrix inverse method\n",
    "    X = np.dot(A_inv, B)\n",
    "\n",
    "    print(\"Solution (Unknowns):\")\n",
    "    print(X)"
   ]
  },
  {
   "cell_type": "markdown",
   "id": "836764b9-f20c-4f0b-b0a2-11fe3a4f8480",
   "metadata": {},
   "source": [
    "# Problem 5"
   ]
  },
  {
   "cell_type": "code",
   "execution_count": 65,
   "id": "b9a3399d-4a9f-4d6b-a51b-89778936080a",
   "metadata": {},
   "outputs": [
    {
     "data": {
      "text/plain": [
       "array([ -23.86666667,  137.6       , -336.        ,  242.53333333,\n",
       "        241.86666667])"
      ]
     },
     "execution_count": 65,
     "metadata": {},
     "output_type": "execute_result"
    }
   ],
   "source": [
    "def matrix_inversion(A, B):\n",
    "\n",
    "    try:\n",
    "        # Calculate the inverse of A\n",
    "        A_inv = np.linalg.inv(A)\n",
    "        \n",
    "        # Compute the solution X = A_inv * B\n",
    "        X = np.dot(A_inv, B)\n",
    "        return X\n",
    "    except np.linalg.LinAlgError:\n",
    "        print(\"Matrix A is singular and cannot be inverted.\")\n",
    "        return None\n",
    "\n",
    "A = np.array([\n",
    "    [5, 3, 1, 1, 0],\n",
    "    [4, 6, 2, 0, 1],\n",
    "    [2, 7, 3, 1, 0],\n",
    "    [1, 2, 4, 5, 0],\n",
    "    [3, 4, 5, 0, 6]\n",
    "])\n",
    "\n",
    "B = np.array([200, 300, 150, 120, 250])\n",
    "\n",
    "matrix_inversion(A, B)"
   ]
  }
 ],
 "metadata": {
  "kernelspec": {
   "display_name": "Python 3 (ipykernel)",
   "language": "python",
   "name": "python3"
  },
  "language_info": {
   "codemirror_mode": {
    "name": "ipython",
    "version": 3
   },
   "file_extension": ".py",
   "mimetype": "text/x-python",
   "name": "python",
   "nbconvert_exporter": "python",
   "pygments_lexer": "ipython3",
   "version": "3.12.7"
  }
 },
 "nbformat": 4,
 "nbformat_minor": 5
}
